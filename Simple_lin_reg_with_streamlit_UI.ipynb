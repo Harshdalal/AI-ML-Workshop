{
  "nbformat": 4,
  "nbformat_minor": 0,
  "metadata": {
    "colab": {
      "provenance": []
    },
    "kernelspec": {
      "name": "python3",
      "display_name": "Python 3"
    },
    "language_info": {
      "name": "python"
    }
  },
  "cells": [
    {
      "cell_type": "code",
      "source": [
        "# Install required packages\n",
        "!pip install streamlit pyngrok scikit-learn pandas numpy matplotlib -q"
      ],
      "metadata": {
        "colab": {
          "base_uri": "https://localhost:8080/"
        },
        "id": "BtQ0I__ta_PT",
        "outputId": "edd09a1b-712a-456a-ddc8-670490d620a6"
      },
      "execution_count": 1,
      "outputs": [
        {
          "output_type": "stream",
          "name": "stdout",
          "text": [
            "\u001b[2K     \u001b[90m━━━━━━━━━━━━━━━━━━━━━━━━━━━━━━━━━━━━━━━━\u001b[0m \u001b[32m44.3/44.3 kB\u001b[0m \u001b[31m1.9 MB/s\u001b[0m eta \u001b[36m0:00:00\u001b[0m\n",
            "\u001b[2K   \u001b[90m━━━━━━━━━━━━━━━━━━━━━━━━━━━━━━━━━━━━━━━━\u001b[0m \u001b[32m9.9/9.9 MB\u001b[0m \u001b[31m87.2 MB/s\u001b[0m eta \u001b[36m0:00:00\u001b[0m\n",
            "\u001b[2K   \u001b[90m━━━━━━━━━━━━━━━━━━━━━━━━━━━━━━━━━━━━━━━━\u001b[0m \u001b[32m6.9/6.9 MB\u001b[0m \u001b[31m88.4 MB/s\u001b[0m eta \u001b[36m0:00:00\u001b[0m\n",
            "\u001b[2K   \u001b[90m━━━━━━━━━━━━━━━━━━━━━━━━━━━━━━━━━━━━━━━━\u001b[0m \u001b[32m79.1/79.1 kB\u001b[0m \u001b[31m5.9 MB/s\u001b[0m eta \u001b[36m0:00:00\u001b[0m\n",
            "\u001b[?25h"
          ]
        }
      ]
    },
    {
      "cell_type": "code",
      "execution_count": 2,
      "metadata": {
        "id": "tpuyP3FKa7l_"
      },
      "outputs": [],
      "source": [
        "\n",
        "\n",
        "# Create the Streamlit app file\n",
        "app_code = '''\n",
        "import streamlit as st\n",
        "import pandas as pd\n",
        "import numpy as np\n",
        "from sklearn.linear_model import LinearRegression\n",
        "import matplotlib.pyplot as plt\n",
        "\n",
        "# Sample dataset\n",
        "data = {\n",
        "    'Area (sqft)': [1000, 1500, 2000, 2500, 3000],\n",
        "    'Price (in Lakhs)': [50, 75, 100, 125, 150]\n",
        "}\n",
        "df = pd.DataFrame(data)\n",
        "\n",
        "# Train model\n",
        "X = df[['Area (sqft)']]\n",
        "y = df['Price (in Lakhs)']\n",
        "model = LinearRegression()\n",
        "model.fit(X, y)\n",
        "\n",
        "# Streamlit UI\n",
        "st.set_page_config(page_title=\"Linear Regression App\", page_icon=\"📈\")\n",
        "st.title(\"📈 House Price Predictor\")\n",
        "st.write(\"Enter area to predict house price using Linear Regression.\")\n",
        "\n",
        "# User input\n",
        "area_input = st.number_input(\"Enter Area (in sqft):\", min_value=100, max_value=5000, step=100)\n",
        "if area_input:\n",
        "    prediction = model.predict([[area_input]])\n",
        "    st.success(f\"Predicted Price: ₹ {prediction[0]:.2f} Lakhs\")\n",
        "\n",
        "# Plotting\n",
        "st.subheader(\"Regression Fit\")\n",
        "x_vals = np.array(X).reshape(-1)\n",
        "y_vals = model.predict(X)\n",
        "\n",
        "plt.figure(figsize=(8, 4))\n",
        "plt.scatter(X, y, color='blue', label='Data Points')\n",
        "plt.plot(X, y_vals, color='red', label='Regression Line')\n",
        "plt.xlabel(\"Area (sqft)\")\n",
        "plt.ylabel(\"Price (in Lakhs)\")\n",
        "plt.title(\"Linear Regression\")\n",
        "plt.legend()\n",
        "st.pyplot(plt)\n",
        "'''\n",
        "\n",
        "# Save the app to a file\n",
        "with open(\"app.py\", \"w\") as f:\n",
        "    f.write(app_code)\n",
        "\n",
        "\n",
        "\n"
      ]
    },
    {
      "cell_type": "code",
      "source": [
        "# 3: Get ngrok token (Optional - for sharing your app)\n",
        "# Go to https://ngrok.com and sign up for free\n",
        "# Copy your token and paste it below\n",
        "ngrok_token = \"2zdoy96kgnj6JPxCjvCgi4OEC8y_5WRQRNFAYtMVJRxNyFMhe\"  # Replace with your actual token"
      ],
      "metadata": {
        "id": "P--iwhToa9wd"
      },
      "execution_count": 5,
      "outputs": []
    },
    {
      "cell_type": "code",
      "source": [
        "# 4: Run Your App (With sharing - requires ngrok token)\n",
        "from pyngrok import ngrok\n",
        "import time\n",
        "import threading\n",
        "\n",
        "# Set your ngrok authentication token (replace ngrok_token with your actual token)\n",
        "ngrok.set_auth_token(ngrok_token)\n",
        "\n",
        "# Function to launch the Streamlit app using a system command\n",
        "def run_app():\n",
        "    !streamlit run app.py --server.headless true --server.port 8501\n",
        "\n",
        "# Terminate any active ngrok tunnels before starting a new one\n",
        "ngrok.kill()\n",
        "\n",
        "# Start the Streamlit app in a separate thread so the script can continue running\n",
        "app_thread = threading.Thread(target=run_app)\n",
        "app_thread.start()\n",
        "\n",
        "# Allow time for the Streamlit app to fully start before creating the tunnel\n",
        "time.sleep(10)\n",
        "\n",
        "# Create a public URL using ngrok and display it\n",
        "try:\n",
        "    public_url = ngrok.connect(8501)\n",
        "    print(\"🚀 Your app is live!\")\n",
        "    print(f\"🌐 Share this link: {public_url}\")\n",
        "    print(\"📱 Anyone can access your app with this link!\")\n",
        "except:\n",
        "    print(\"⚠️ Need ngrok token for sharing. App is running locally.\")"
      ],
      "metadata": {
        "colab": {
          "base_uri": "https://localhost:8080/"
        },
        "id": "y_gHsXvobEXz",
        "outputId": "1d884fcc-7172-40c6-c4ad-291ed7884476"
      },
      "execution_count": 7,
      "outputs": [
        {
          "output_type": "stream",
          "name": "stdout",
          "text": [
            "\n",
            "Collecting usage statistics. To deactivate, set browser.gatherUsageStats to false.\n",
            "\u001b[0m\n",
            "\u001b[0m\n",
            "\u001b[34m\u001b[1m  You can now view your Streamlit app in your browser.\u001b[0m\n",
            "\u001b[0m\n",
            "\u001b[34m  Local URL: \u001b[0m\u001b[1mhttp://localhost:8501\u001b[0m\n",
            "\u001b[34m  Network URL: \u001b[0m\u001b[1mhttp://172.28.0.12:8501\u001b[0m\n",
            "\u001b[34m  External URL: \u001b[0m\u001b[1mhttp://34.85.228.101:8501\u001b[0m\n",
            "\u001b[0m\n",
            "🚀 Your app is live!\n",
            "🌐 Share this link: NgrokTunnel: \"https://ec6735c68b7d.ngrok-free.app\" -> \"http://localhost:8501\"\n",
            "📱 Anyone can access your app with this link!\n"
          ]
        }
      ]
    },
    {
      "cell_type": "code",
      "source": [],
      "metadata": {
        "id": "dej1XED0baAZ"
      },
      "execution_count": null,
      "outputs": []
    }
  ]
}