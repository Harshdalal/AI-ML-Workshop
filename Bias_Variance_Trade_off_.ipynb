{
  "nbformat": 4,
  "nbformat_minor": 0,
  "metadata": {
    "colab": {
      "provenance": []
    },
    "kernelspec": {
      "name": "python3",
      "display_name": "Python 3"
    },
    "language_info": {
      "name": "python"
    }
  },
  "cells": [
    {
      "cell_type": "markdown",
      "source": [
        "#Bias-Variance Trade-off\n",
        "\n",
        "The bias-variance trade-off is a fundamental concept in machine learning that helps us understand the trade-off between underfitting and overfitting.\n",
        "\n",
        "#🔹 Key Concepts:\n",
        "\n",
        "1. Bias\n",
        "\n",
        ">Error due to over-simplified assumptions in the model\n",
        "\n",
        ">Leads to underfitting\n",
        "\n",
        ">Model fails to capture the underlying trend\n",
        "\n",
        "✅ Low variance, ❌ High error\n",
        "\n",
        "🔍 Example: Using a linear model to fit non-linear data\n",
        "\n",
        "2. Variance\n",
        "\n",
        ">Error due to model's sensitivity to small fluctuations in the training set\n",
        "\n",
        ">Leads to overfitting\n",
        "\n",
        ">Model captures noise along with the signal\n",
        "\n",
        "❌ High variance, ✅ Low bias\n",
        "\n",
        "🔍 Example: Using a deep decision tree that fits every data point\n",
        "\n",
        "#📈 Visual Summary:\n",
        "\n",
        "|                | Low Bias & Low Variance | High Bias             | High Variance      |\n",
        "| -------------- | ----------------------- | --------------------- | ------------------ |\n",
        "| Prediction     | Accurate & Stable       | Inaccurate (underfit) | Unstable (overfit) |\n",
        "| Generalization | Excellent               | Poor                  | Poor               |\n",
        "\n",
        "#Summary:\n",
        "\n",
        ">High Bias → Underfitting\n",
        "\n",
        ">High Variance → Overfitting\n",
        "\n",
        ">✅ Best models balance bias and variance for optimal generalization"
      ],
      "metadata": {
        "id": "-cHPgXv4p8fN"
      }
    }
  ]
}