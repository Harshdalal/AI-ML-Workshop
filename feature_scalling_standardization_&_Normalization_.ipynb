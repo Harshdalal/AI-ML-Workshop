{
  "nbformat": 4,
  "nbformat_minor": 0,
  "metadata": {
    "colab": {
      "provenance": []
    },
    "kernelspec": {
      "name": "python3",
      "display_name": "Python 3"
    },
    "language_info": {
      "name": "python"
    }
  },
  "cells": [
    {
      "cell_type": "markdown",
      "source": [
        "#feature scalling - standardization & Normalization"
      ],
      "metadata": {
        "id": "tcPaByQFR4hD"
      }
    },
    {
      "cell_type": "markdown",
      "source": [
        "Feature Scaling is a data preprocessing technique used to normalize or standardize the range of independent variables (features) in your dataset so that all features contribute equally to the model performance."
      ],
      "metadata": {
        "id": "PignISaLSR7u"
      }
    },
    {
      "cell_type": "markdown",
      "source": [
        "Many machine learning algorithms (especially those based on distance or gradient) are sensitive to the scale of input features. For example:\n",
        "\n",
        "📏 K-Nearest Neighbors (KNN)\n",
        "\n",
        "🧠 Neural Networks\n",
        "\n",
        "📉 Gradient Descent-based models (e.g., Linear/Logistic Regression, SVM)\n",
        "\n",
        "🧮 Principal Component Analysis (PCA)\n",
        "\n",
        "If features are on different scales, models may prioritize larger-magnitude features unfairly."
      ],
      "metadata": {
        "id": "BtegdEd6SOh1"
      }
    },
    {
      "cell_type": "code",
      "execution_count": 1,
      "metadata": {
        "id": "FJBoRF-OR3UT"
      },
      "outputs": [],
      "source": [
        "from sklearn.preprocessing import StandardScaler, MinMaxScaler\n",
        "import numpy as np\n",
        "\n",
        "#Example:\n",
        "#Consider two features: age (20–60) and salary (20,000–200,000).\n",
        "#Without scaling, salary will dominate age due to its larger values.\n",
        "\n",
        "data = np.array([[25, 50000],\n",
        "                 [35, 100000],\n",
        "                 [45, 150000]])"
      ]
    },
    {
      "cell_type": "markdown",
      "source": [
        "# Standardization (Z-score Normalization)"
      ],
      "metadata": {
        "id": "JBSE3RcJSeaz"
      }
    },
    {
      "cell_type": "markdown",
      "source": [
        "\n",
        "\n",
        "Output Range: No fixed range; data is centered around 0 with a standard deviation of 1\n",
        "\n",
        "Use Case: Preferred when data follows a Gaussian (normal) distribution.\n",
        "\n",
        "Example: Used in PCA, logistic regression, SVM, linear regression, etc."
      ],
      "metadata": {
        "id": "tQPeQzZYSJyt"
      }
    },
    {
      "cell_type": "code",
      "source": [
        "# Standardization\n",
        "standardized = StandardScaler().fit_transform(data)\n",
        "\n",
        "print(\"Standardized:\\n\", standardized)\n",
        "\n"
      ],
      "metadata": {
        "colab": {
          "base_uri": "https://localhost:8080/"
        },
        "id": "wk6LBfnuSA5b",
        "outputId": "43b3ea91-7890-4e7f-ed96-9272d1fa1430"
      },
      "execution_count": 2,
      "outputs": [
        {
          "output_type": "stream",
          "name": "stdout",
          "text": [
            "Standardized:\n",
            " [[-1.22474487 -1.22474487]\n",
            " [ 0.          0.        ]\n",
            " [ 1.22474487  1.22474487]]\n"
          ]
        }
      ]
    },
    {
      "cell_type": "markdown",
      "source": [
        "#Normalization (Min-Max Scaling)\n",
        "\n",
        "Output Range: Scales values to a [0, 1] range (or any custom range)\n",
        "\n",
        "Use Case: Preferred when the distribution is not normal or when using algorithms that are sensitive to the magnitude of data, like:\n",
        "\n",
        "KNN, neural networks, distance-based models"
      ],
      "metadata": {
        "id": "7fksoMYbSlEv"
      }
    },
    {
      "cell_type": "code",
      "source": [
        "# Normalization\n",
        "normalized = MinMaxScaler().fit_transform(data)\n",
        "print(\"Normalized:\\n\", normalized)"
      ],
      "metadata": {
        "colab": {
          "base_uri": "https://localhost:8080/"
        },
        "id": "aE77DnHvSF2t",
        "outputId": "cbdd40c8-a604-4e99-824f-d836d68bf21b"
      },
      "execution_count": 3,
      "outputs": [
        {
          "output_type": "stream",
          "name": "stdout",
          "text": [
            "Normalized:\n",
            " [[0.  0. ]\n",
            " [0.5 0.5]\n",
            " [1.  1. ]]\n"
          ]
        }
      ]
    },
    {
      "cell_type": "markdown",
      "source": [
        "#🔸 Summary Table:\n",
        "\n",
        "| Aspect                | Standardization           | Normalization             |\n",
        "| --------------------- | ------------------------- | ------------------------- |\n",
        "| Formula               | $(x - \\mu)/\\sigma$        | $(x - min) / (max - min)$ |\n",
        "| Output Range          | No fixed range (mean=0)   | Typically \\[0, 1]         |\n",
        "| Sensitive to Outliers | Less                      | More                      |\n",
        "| Best For              | Normally distributed data | Distance-based algorithms |\n"
      ],
      "metadata": {
        "id": "bRipCoQ_UB0C"
      }
    },
    {
      "cell_type": "markdown",
      "source": [
        "#extra:\n",
        "Use Standardization when you assume normal distribution.\n",
        "\n",
        "Use Normalization when using distance-based algorithms or bounded inputs (e.g., NN activation functions like sigmoid)."
      ],
      "metadata": {
        "id": "6vJZvbKIUdG-"
      }
    },
    {
      "cell_type": "code",
      "source": [],
      "metadata": {
        "id": "9TaT6aXWUE4c"
      },
      "execution_count": null,
      "outputs": []
    }
  ]
}