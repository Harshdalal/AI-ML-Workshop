{
  "nbformat": 4,
  "nbformat_minor": 0,
  "metadata": {
    "colab": {
      "provenance": []
    },
    "kernelspec": {
      "name": "python3",
      "display_name": "Python 3"
    },
    "language_info": {
      "name": "python"
    }
  },
  "cells": [
    {
      "cell_type": "markdown",
      "source": [
        "#MSE and R² Score\n",
        "\n",
        "Both MSE (Mean Squared Error) and R² (R-squared / Coefficient of Determination) are evaluation metrics for regression models.\n",
        "\n",
        "#1. MSE (Mean Squared Error)\n",
        "\n",
        "📌 Definition:\n",
        "It measures the average squared difference between the predicted values and the actual values.\n",
        "\n",
        "✅ Interpretation:\n",
        "Lower MSE = better model.\n",
        "\n",
        "MSE is always non-negative.\n",
        "\n",
        "Sensitive to outliers because of squaring.\n",
        "\n",
        "#2. R² Score (Coefficient of Determination)\n",
        "\n",
        "📌 Definition:\n",
        "It measures how well the model explains the variability of the target variable. It tells you the proportion of variance explained by the model.\n",
        "\n",
        "✅ Interpretation:\n",
        "\n",
        "R² = 1: Perfect prediction\n",
        "\n",
        "R² = 0: Model is as good as predicting the mean\n",
        "\n",
        "R² < 0: Model is worse than predicting the mean\n"
      ],
      "metadata": {
        "id": "mYgAP1eLWoml"
      }
    },
    {
      "cell_type": "code",
      "execution_count": 1,
      "metadata": {
        "colab": {
          "base_uri": "https://localhost:8080/"
        },
        "id": "XlZbxp79Wnsc",
        "outputId": "00cb744f-c8ae-4de4-9c7d-dda7dbe59e5f"
      },
      "outputs": [
        {
          "output_type": "stream",
          "name": "stdout",
          "text": [
            "MSE: 0.032500000000000036\n",
            "R² Score: 0.9897536945812808\n"
          ]
        }
      ],
      "source": [
        "from sklearn.metrics import mean_squared_error, r2_score\n",
        "\n",
        "y_true = [3, 5, 2.5, 7]\n",
        "y_pred = [2.8, 4.9, 2.7, 7.2]\n",
        "\n",
        "mse = mean_squared_error(y_true, y_pred)\n",
        "r2 = r2_score(y_true, y_pred)\n",
        "\n",
        "print(\"MSE:\", mse)\n",
        "print(\"R² Score:\", r2)\n"
      ]
    },
    {
      "cell_type": "markdown",
      "source": [
        "# Summary Table:\n",
        "\n",
        "| Metric | Measures           | Ideal Value | Range          | Sensitive to Outliers? |\n",
        "| ------ | ------------------ | ----------- | -------------- | ---------------------- |\n",
        "| MSE    | Error magnitude    | 0           | $[0, \\infty)$  | ✅ Yes                  |\n",
        "| R²     | Explained variance | 1           | $(-\\infty, 1]$ | ❌ Less                 |\n"
      ],
      "metadata": {
        "id": "o5nF6K-LYPgg"
      }
    },
    {
      "cell_type": "code",
      "source": [],
      "metadata": {
        "id": "nU0lHB3rYSTp"
      },
      "execution_count": null,
      "outputs": []
    }
  ]
}